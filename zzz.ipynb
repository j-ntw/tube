{
 "cells": [
  {
   "cell_type": "code",
   "execution_count": 7,
   "metadata": {},
   "outputs": [
    {
     "data": {
      "text/plain": [
       "2"
      ]
     },
     "execution_count": 7,
     "metadata": {},
     "output_type": "execute_result"
    }
   ],
   "source": [
    "def isPrime(n):\n",
    "    # Write your code here\n",
    "    for i in range(n//2):\n",
    "        if i == 0 or i == 1:\n",
    "            continue\n",
    "        elif (n % i == 0):\n",
    "            return i\n",
    "    return 1\n",
    "isPrime(6)"
   ]
  },
  {
   "cell_type": "code",
   "execution_count": 16,
   "metadata": {},
   "outputs": [
    {
     "name": "stdout",
     "output_type": "stream",
     "text": [
      "55\n",
      "55\n"
     ]
    },
    {
     "data": {
      "text/plain": [
       "[\"'Harry Potter': Behind the Magic\",\n",
       " '50 Greatest Harry Potter Moments',\n",
       " \"An Exclusive Inside Look at 'Harry Potter and the Order of the Phoenix'\",\n",
       " 'Big Movie Premiere: Harry Potter & the Deathly Hallows Pt. 1',\n",
       " 'Creating the World of Harry Potter, Part 1: The Magic Begins',\n",
       " 'Creating the World of Harry Potter, Part 2: Characters',\n",
       " 'Creating the World of Harry Potter, Part 3: Creatures',\n",
       " 'Creating the World of Harry Potter, Part 4: Sound and Music',\n",
       " 'Creating the World of Harry Potter, Part 5: Evolution',\n",
       " 'Creating the World of Harry Potter, Part 6: Magical Effects',\n",
       " 'Creating the World of Harry Potter, Part 7: Story',\n",
       " 'Creating the World of Harry Potter, Part 8: Growing Up',\n",
       " 'Daniel Radcliffe: Being Harry Potter',\n",
       " 'Discovering the Real World of Harry Potter',\n",
       " 'Harry Potter Parent Teacher Conference',\n",
       " 'Harry Potter and the Chamber of Secrets',\n",
       " 'Harry Potter and the Chamber of Secrets',\n",
       " 'Harry Potter and the Deathly Hallows T4 Premiere Special',\n",
       " 'Harry Potter and the Deathly Hallows: Part 1',\n",
       " 'Harry Potter and the Deathly Hallows: Part 2',\n",
       " 'Harry Potter and the Deathly Hallows: Part I',\n",
       " 'Harry Potter and the Deathly Hallows: Part II',\n",
       " 'Harry Potter and the Escape from Gringotts',\n",
       " 'Harry Potter and the Forbidden Journey',\n",
       " 'Harry Potter and the Goblet of Fire',\n",
       " 'Harry Potter and the Goblet of Fire',\n",
       " 'Harry Potter and the Half-Blood Prince',\n",
       " 'Harry Potter and the Half-Blood Prince',\n",
       " 'Harry Potter and the Music Video Parody (About Hermione!)',\n",
       " 'Harry Potter and the Order of the Phoenix',\n",
       " 'Harry Potter and the Order of the Phoenix',\n",
       " 'Harry Potter and the Order of the Phoenix: T4 Movie Special',\n",
       " 'Harry Potter and the Prisoner of Azkaban',\n",
       " 'Harry Potter and the Prisoner of Azkaban',\n",
       " \"Harry Potter and the Sorcerer's Stone\",\n",
       " \"Harry Potter and the Sorcerer's Stone\",\n",
       " 'Harry Potter and the Ten Years Later',\n",
       " 'Harry Potter at the Castle: Magic at Midnight',\n",
       " 'Harry Potter for Kinect',\n",
       " 'Harry Potter v. Voldemort',\n",
       " 'Harry Potter és a bölcsek köve',\n",
       " 'Harry Potter: Hogwarts Challenge',\n",
       " 'Harry Potter: Quidditch World Cup',\n",
       " 'Harry Potter: The Making of Diagon Alley',\n",
       " 'Harry Potter: Wizarding World',\n",
       " 'I Am Harry Potter',\n",
       " \"Inside 'Harry Potter and the Goblet of Fire'\",\n",
       " 'Lego Creator: Harry Potter',\n",
       " 'Lego Creator: Harry Potter and the Chamber of Secrets',\n",
       " 'Lego Harry Potter: Years 1-4',\n",
       " 'Lego Harry Potter: Years 5-7',\n",
       " 'Life After Hogwarts: Episode 1 - Harry Potter Goes to Therapy',\n",
       " 'R-Rated Harry Potter',\n",
       " 'The Hidden Secrets of Harry Potter',\n",
       " 'The Magical World of Harry Potter: The Unauthorized Story of J.K. Rowling']"
      ]
     },
     "execution_count": 16,
     "metadata": {},
     "output_type": "execute_result"
    }
   ],
   "source": [
    "import requests\n",
    "def getMovieTitles(substr):\n",
    "    base_url = \"https://jsonmock.hackerrank.com/api/moviesdata/search/?Title=\"\n",
    "    base_url += substr\n",
    "    data = requests.get(base_url).json()\n",
    "    total = data[\"total\"]\n",
    "    total_pages= data[\"total_pages\"]\n",
    "    titles = []\n",
    "    if total_pages> 1:\n",
    "        # get all\n",
    "        for pageNumber in range(1,total_pages+1):\n",
    "            page_url = base_url + f\"&page={pageNumber}\"\n",
    "            data = requests.get(page_url).json()\n",
    "            # get titles\n",
    "            if data.get(\"data\", None) is not None:\n",
    "                for movie in data[\"data\"]:\n",
    "                    titles.append(movie[\"Title\"])\n",
    "    else:\n",
    "        if data.get(\"data\", None) is not None:\n",
    "            for movie in data[\"data\"]:\n",
    "                titles.append(movie[\"Title\"])\n",
    "    titles.sort()\n",
    "    print(total)\n",
    "    print(len(titles))\n",
    "    return titles\n",
    "\n",
    "getMovieTitles(\"Harry Potter\")"
   ]
  },
  {
   "cell_type": "code",
   "execution_count": 58,
   "metadata": {},
   "outputs": [
    {
     "data": {
      "text/plain": [
       "[3, 1]"
      ]
     },
     "execution_count": 58,
     "metadata": {},
     "output_type": "execute_result"
    }
   ],
   "source": [
    "def countBetween(arr, low:list, high:list):\n",
    "    ret = []\n",
    "    arr.sort()\n",
    "    for i in range(len(low)):\n",
    "        lower = low[i]\n",
    "        upper = high[i]\n",
    "        \n",
    "        count = find_upper(upper, arr) - find_lower(lower, arr) + 1\n",
    "        ret.append(count)\n",
    "    return ret\n",
    "    \n",
    "def find_lower(x, arr):\n",
    "    # given a sorted array\n",
    "    # find the index of the first element that is greater than or equal to x\n",
    "    # using binary search\n",
    "    if x <= arr[0]:\n",
    "        return 0\n",
    "    left = 0\n",
    "    right = len(arr) - 1\n",
    "    while left < right:\n",
    "        mid = (left + right) // 2\n",
    "        if arr[mid] < x:\n",
    "            left = mid + 1\n",
    "        else:\n",
    "            right = mid\n",
    "    # print(f\"find lower{left}\")\n",
    "    return left\n",
    "def find_upper(x, arr):\n",
    "    # given a sorted array\n",
    "    # find the index of the last element that is smaller than or equal to x\n",
    "    # using binary search\n",
    "    if x>= arr[-1]:\n",
    "        return len(arr) - 1\n",
    "    left = 0\n",
    "    right = len(arr) - 1\n",
    "    while left < right:\n",
    "        mid = (left + right + 1) // 2\n",
    "        if arr[mid] > x:\n",
    "            right = mid - 1\n",
    "        else:\n",
    "            left = mid\n",
    "    # print(f\"find upper{right}\")\n",
    "    return right\n",
    "# countBetween([1,3,4,6,8], [2], [6])\n",
    "countBetween([4,7,8],[2,4], [8,4])\n"
   ]
  },
  {
   "cell_type": "code",
   "execution_count": 59,
   "metadata": {},
   "outputs": [
    {
     "data": {
      "text/plain": [
       "5"
      ]
     },
     "execution_count": 59,
     "metadata": {},
     "output_type": "execute_result"
    }
   ],
   "source": [
    "find_upper(9, [1,2,3,4,7,8])"
   ]
  },
  {
   "cell_type": "code",
   "execution_count": 60,
   "metadata": {},
   "outputs": [
    {
     "data": {
      "text/plain": [
       "0"
      ]
     },
     "execution_count": 60,
     "metadata": {},
     "output_type": "execute_result"
    }
   ],
   "source": [
    "find_lower(0, [1,2,3,4,7,8])"
   ]
  },
  {
   "cell_type": "code",
   "execution_count": null,
   "metadata": {},
   "outputs": [],
   "source": [
    "def countBetween(arr, low:list, high:list):\n",
    "    ret = []\n",
    "    # time limit exceeded\n",
    "    # time complexity O(n^2)\n",
    "    for i in range(len(low)):\n",
    "        lower = low[i]\n",
    "        upper = high[i]\n",
    "        count = 0\n",
    "        for j in range(len(arr)):\n",
    "            if arr[j] >= lower and arr[j] <= upper:\n",
    "                count += 1\n",
    "        ret.append(count)\n",
    "    return ret"
   ]
  },
  {
   "cell_type": "code",
   "execution_count": null,
   "metadata": {},
   "outputs": [],
   "source": [
    "def preprocessDate(dates):\n",
    "    # Write your code here\n",
    "    ret = []\n",
    "    for date in dates:\n",
    "        date_list = date.split()\n",
    "        day = date_list[0]\n",
    "        month = date_list[1]\n",
    "        year = date_list[2]\n",
    "\n",
    "        # get the number from day\n",
    "        day = day[:-2]\n",
    "        if len(day) == 1:\n",
    "            day = \"0\" + day\n",
    "        # get the month\n",
    "        month_dict = {\"Jan\": \"01\", \"Feb\": \"02\", \"Mar\": \"03\", \"Apr\": \"04\", \"May\": \"05\", \"Jun\": \"06\", \"Jul\": \"07\", \"Aug\": \"08\", \"Sep\": \"09\", \"Oct\": \"10\", \"Nov\": \"11\", \"Dec\": \"12\"}\n",
    "        month = month_dict[month]\n",
    "        ret.append(f\"{year}-{month}-{day}\")\n",
    "    return ret\n",
    "\n"
   ]
  },
  {
   "cell_type": "code",
   "execution_count": 23,
   "metadata": {},
   "outputs": [
    {
     "data": {
      "text/plain": [
       "4"
      ]
     },
     "execution_count": 23,
     "metadata": {},
     "output_type": "execute_result"
    }
   ],
   "source": [
    "# given an array d of n distinct integers, and an integer threshold t\n",
    "# how many (a,b,c,) index triplets are there such that \n",
    "# d[a] + d[b] + d[c] <= t\n",
    "# d[a] < d[b] < d[c]\n",
    "\n",
    "def countTriplets(d:list, t):\n",
    "    # Write your code here\n",
    "    d.sort()\n",
    "    # remove elements above t\n",
    "\n",
    "    count = 0\n",
    "    for i in range(len(d)):\n",
    "        for j in range(i+1, len(d)):\n",
    "            for k in range(j+1, len(d)):\n",
    "                if d[i] + d[j] + d[k] <= t:\n",
    "                    count += 1\n",
    "    return count\n",
    "\n",
    "countTriplets([1,2,3,4,5], 8)"
   ]
  },
  {
   "cell_type": "code",
   "execution_count": 20,
   "metadata": {},
   "outputs": [
    {
     "data": {
      "text/plain": [
       "4"
      ]
     },
     "execution_count": 20,
     "metadata": {},
     "output_type": "execute_result"
    }
   ],
   "source": [
    "# mex of an array is the smallest non-negative integer that is not in the array\n",
    "# given an array a of n integers, find the largest mex of the array\n",
    "\n",
    "# you can reduce any element arr[i] to an integer x such that 0 <= x <= arr[i]\n",
    "# you can do this any number of times until u get all the numbers to be consecutive integers\n",
    "def getMaximumMEX(arr:list):\n",
    "    arr.sort()\n",
    "    \n",
    "    # try to minimise\n",
    "    for i in range(len(arr)):\n",
    "        if i==0:\n",
    "            arr[i] = 0\n",
    "        else:\n",
    "            arr[i] = reduceB(arr[i-1], arr[i])\n",
    "    return arr[-1] +1\n",
    "\n",
    "def reduceB(a,b):\n",
    "    # a <= b\n",
    "    # make b = a + 1\n",
    "    if a == b:\n",
    "        return a\n",
    "    if a < b:\n",
    "        return a+1\n",
    "    return None\n",
    "getMaximumMEX([0,1,1,1,1,2,5])"
   ]
  },
  {
   "cell_type": "code",
   "execution_count": 34,
   "metadata": {},
   "outputs": [],
   "source": [
    "# mapping of letters to numbers\n",
    "mapping = {}\n",
    "for i in range(26):\n",
    "    mapping[chr(97+i)] = i +1\n",
    "def distance(a:str,b:str):\n",
    "    # chars\n",
    "    # wrap around\n",
    "    a = a.lower()\n",
    "    b = b.lower()\n",
    "    a_num = mapping[a]\n",
    "    b_num = mapping[b]\n",
    "    return min(abs(a_num - b_num), 26 - abs(a_num - b_num))\n",
    "\n",
    "def total_distance(a:str, b:str):\n",
    "    total = 0\n",
    "    for i in range(len(a)):\n",
    "        total += distance(a[i], b[i])\n",
    "    return total"
   ]
  },
  {
   "cell_type": "code",
   "execution_count": 38,
   "metadata": {},
   "outputs": [
    {
     "data": {
      "text/plain": [
       "4"
      ]
     },
     "execution_count": 38,
     "metadata": {},
     "output_type": "execute_result"
    }
   ],
   "source": [
    "distance(\"g\",\"c\")"
   ]
  },
  {
   "cell_type": "code",
   "execution_count": 35,
   "metadata": {},
   "outputs": [
    {
     "data": {
      "text/plain": [
       "9"
      ]
     },
     "execution_count": 35,
     "metadata": {},
     "output_type": "execute_result"
    }
   ],
   "source": [
    "total_distance(\"abc\", \"def\")"
   ]
  },
  {
   "cell_type": "code",
   "execution_count": 39,
   "metadata": {},
   "outputs": [
    {
     "data": {
      "text/plain": [
       "'aaaaaba'"
      ]
     },
     "execution_count": 39,
     "metadata": {},
     "output_type": "execute_result"
    }
   ],
   "source": [
    "def getSmallestString(s, k):\n",
    "    # find another string t such that total_distance(s,t) = k\n",
    "    \n",
    "    # imagine we are trying to get to a string of all a's of length len(s)\n",
    "    # k represents a budget\n",
    "    s = list(s)\n",
    "    for i in range(len(s)):\n",
    "        # find the distance between s[i] and a\n",
    "        dist = distance(s[i], \"a\")\n",
    "        if k >= dist:\n",
    "            s[i] = \"a\"\n",
    "            k -= dist\n",
    "        else:\n",
    "            # find the distance between s[i] and s[i] - k\n",
    "            s[i] = chr(ord(s[i]) - k)\n",
    "            break\n",
    "    return \"\".join(s)\n",
    "\n",
    "getSmallestString(\"abacaba\", 3)"
   ]
  },
  {
   "cell_type": "code",
   "execution_count": 1,
   "metadata": {},
   "outputs": [],
   "source": [
    "from pytube import YouTube\n",
    "import os\n",
    "\n",
    "def download_video(video_url):\n",
    "    try:\n",
    "        yt = YouTube(video_url)\n",
    "        save_path = os.path.join(os.path.expanduser(\"~\"), \"Downloads\")\n",
    "        stream = yt.streams.get_highest_resolution()\n",
    "        print(\"Downloading:\", yt.title)\n",
    "        stream.download(output_path=save_path)\n",
    "        print(\"Download completed!\")\n",
    "    except Exception as e:\n",
    "        print(\"Error:\", str(e))\n",
    "\n",
    "\n",
    "# video_url = \"https://youtu.be/33Vt2ff5Y_k?si=nRKtaDxG4t_MiSm2\"\n",
    "# download_video(video_url)\n"
   ]
  },
  {
   "cell_type": "code",
   "execution_count": 1,
   "metadata": {},
   "outputs": [
    {
     "name": "stdout",
     "output_type": "stream",
     "text": [
      "/Users/joshuang/Downloads\n"
     ]
    }
   ],
   "source": [
    "import os \n",
    "print(os.path.join(os.path.expanduser(\"~\"), \"Downloads\"))"
   ]
  },
  {
   "cell_type": "code",
   "execution_count": 2,
   "metadata": {},
   "outputs": [
    {
     "name": "stdout",
     "output_type": "stream",
     "text": [
      "Downloading: Fnatic vs. Virtus.Pro // Europe League Stage 1 - Day 8 // 2024\n",
      "Download completed!\n"
     ]
    }
   ],
   "source": [
    "x = \"https://www.youtube.com/watch?v=s1LLaanTTy0\"\n",
    "download_video(x)"
   ]
  },
  {
   "cell_type": "code",
   "execution_count": 2,
   "metadata": {},
   "outputs": [
    {
     "name": "stdout",
     "output_type": "stream",
     "text": [
      "Downloading: Team BDS vs. Fnatic // Europe League Stage 1 - Day 9 // 2024\n",
      "Download completed!\n"
     ]
    }
   ],
   "source": [
    "y=\"https://www.youtube.com/watch?v=dkD3-ldhIVY\"\n",
    "download_video(y)"
   ]
  },
  {
   "cell_type": "code",
   "execution_count": null,
   "metadata": {},
   "outputs": [],
   "source": [
    "import os\n",
    "from pytube import YouTube\n",
    "from tqdm import tqdm\n",
    "\n",
    "def download_video(video_url):\n",
    "    try:\n",
    "        yt = YouTube(video_url)\n",
    "        stream = yt.streams.get_highest_resolution()\n",
    "        print(\"Downloading:\", yt.title)\n",
    "        save_path = os.path.join(os.path.expanduser(\"~\"), \"Downloads\")\n",
    "        file_size = stream.filesize\n",
    "        with open(os.path.join(save_path, stream.default_filename), 'wb') as f:\n",
    "            with tqdm(total=file_size, unit='B', unit_scale=True, desc=yt.title, ncols=100) as pbar:\n",
    "                for chunk in stream.iterable:\n",
    "                    f.write(chunk)\n",
    "                    pbar.update(len(chunk))\n",
    "        print(\"Download completed! Video saved in Downloads folder.\")\n",
    "    except Exception as e:\n",
    "        print(\"Error:\", str(e))"
   ]
  }
 ],
 "metadata": {
  "kernelspec": {
   "display_name": "Python 3",
   "language": "python",
   "name": "python3"
  },
  "language_info": {
   "codemirror_mode": {
    "name": "ipython",
    "version": 3
   },
   "file_extension": ".py",
   "mimetype": "text/x-python",
   "name": "python",
   "nbconvert_exporter": "python",
   "pygments_lexer": "ipython3",
   "version": "3.12.3"
  }
 },
 "nbformat": 4,
 "nbformat_minor": 2
}
